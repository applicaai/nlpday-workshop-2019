{
 "cells": [
  {
   "cell_type": "markdown",
   "metadata": {
    "ExecuteTime": {
     "end_time": "2019-05-28T11:17:36.093454Z",
     "start_time": "2019-05-28T11:17:36.089178Z"
    }
   },
   "source": [
    "# WildNLP\n",
    "documentation: https://github.com/MI2DataLab/WildNLP"
   ]
  },
  {
   "cell_type": "code",
   "execution_count": 1,
   "metadata": {
    "ExecuteTime": {
     "end_time": "2019-05-28T11:18:09.551651Z",
     "start_time": "2019-05-28T11:18:09.546610Z"
    }
   },
   "outputs": [
    {
     "data": {
      "text/plain": [
       "['Manning is a leader in applying Deep Learning to Natural Language Processing',\n",
       " 'Manning has coauthored leading textbooks on statistical approaches to Natural Language Processing']"
      ]
     },
     "execution_count": 1,
     "metadata": {},
     "output_type": "execute_result"
    }
   ],
   "source": [
    "from wildnlp.aspects import *\n",
    "from wildnlp.aspects.utils import compose\n",
    "from wildnlp.datasets import SampleDataset\n",
    "\n",
    "# Create a dataset object and load the dataset\n",
    "dataset = SampleDataset()\n",
    "dataset.load()\n",
    "dataset.data"
   ]
  },
  {
   "cell_type": "markdown",
   "metadata": {},
   "source": [
    "# QWERTY"
   ]
  },
  {
   "cell_type": "code",
   "execution_count": 2,
   "metadata": {
    "ExecuteTime": {
     "end_time": "2019-05-28T11:18:10.397948Z",
     "start_time": "2019-05-28T11:18:10.392948Z"
    }
   },
   "outputs": [
    {
     "data": {
      "text/plain": [
       "['Manning is a leader in applying Deep Leagning to Natural Language Processing',\n",
       " 'Manning has coauthored leading textbooks 0n statistical approaches to Natural Language Processing']"
      ]
     },
     "execution_count": 2,
     "metadata": {},
     "output_type": "execute_result"
    }
   ],
   "source": [
    "# Crate a composed corruptor function.\n",
    "composed = compose(QWERTY())\n",
    "\n",
    "# Apply the function to the dataset\n",
    "modified = dataset.apply(composed)\n",
    "modified"
   ]
  },
  {
   "cell_type": "code",
   "execution_count": 3,
   "metadata": {
    "ExecuteTime": {
     "end_time": "2019-05-28T11:18:10.793013Z",
     "start_time": "2019-05-28T11:18:10.788780Z"
    }
   },
   "outputs": [
    {
     "data": {
      "text/plain": [
       "'Randomly removes or swaps articles knto wrong ones.'"
      ]
     },
     "execution_count": 3,
     "metadata": {},
     "output_type": "execute_result"
    }
   ],
   "source": [
    "composed(\"Randomly removes or swaps articles into wrong ones.\")"
   ]
  },
  {
   "cell_type": "markdown",
   "metadata": {},
   "source": [
    "# Swap"
   ]
  },
  {
   "cell_type": "code",
   "execution_count": 4,
   "metadata": {
    "ExecuteTime": {
     "end_time": "2019-05-28T11:18:11.584918Z",
     "start_time": "2019-05-28T11:18:11.580272Z"
    }
   },
   "outputs": [
    {
     "data": {
      "text/plain": [
       "['Mnaning is a laeder in applynig Depe Laerning to Ntaural Lnaguage Procsesing',\n",
       " 'Mannign hsa caouthored ledaing textbokos on statistcial approahces to Natrual Lagnuage Procsesing']"
      ]
     },
     "execution_count": 4,
     "metadata": {},
     "output_type": "execute_result"
    }
   ],
   "source": [
    "# Crate a composed corruptor function.\n",
    "composed = compose(Swap())\n",
    "\n",
    "# Apply the function to the dataset\n",
    "modified = dataset.apply(composed)\n",
    "modified"
   ]
  },
  {
   "cell_type": "code",
   "execution_count": 5,
   "metadata": {
    "ExecuteTime": {
     "end_time": "2019-05-28T11:18:12.001694Z",
     "start_time": "2019-05-28T11:18:11.997461Z"
    }
   },
   "outputs": [
    {
     "data": {
      "text/plain": [
       "'Randolmy swpas tow charactesr wtihin a wodr, ecxluding punctuatinos.'"
      ]
     },
     "execution_count": 5,
     "metadata": {},
     "output_type": "execute_result"
    }
   ],
   "source": [
    "composed(\"Randomly swaps two characters within a word, excluding punctuations.\")"
   ]
  },
  {
   "cell_type": "markdown",
   "metadata": {},
   "source": [
    "# RemoveChar"
   ]
  },
  {
   "cell_type": "code",
   "execution_count": 6,
   "metadata": {
    "ExecuteTime": {
     "end_time": "2019-05-28T11:18:12.702102Z",
     "start_time": "2019-05-28T11:18:12.697079Z"
    }
   },
   "outputs": [
    {
     "data": {
      "text/plain": [
       "['Manning is leader in appying eep Learnng o Natual Language Processing',\n",
       " 'Mnning has coautored eading textbooks on statistical aproaches o Natural anguage Processing']"
      ]
     },
     "execution_count": 6,
     "metadata": {},
     "output_type": "execute_result"
    }
   ],
   "source": [
    "# Crate a composed corruptor function.\n",
    "composed = compose(RemoveChar())\n",
    "\n",
    "# Apply the function to the dataset\n",
    "modified = dataset.apply(composed)\n",
    "modified"
   ]
  },
  {
   "cell_type": "code",
   "execution_count": 7,
   "metadata": {
    "ExecuteTime": {
     "end_time": "2019-05-28T11:18:13.014227Z",
     "start_time": "2019-05-28T11:18:13.009856Z"
    }
   },
   "outputs": [
    {
     "data": {
      "text/plain": [
       "'Randomly emoves: characters from wods o white paces frm sentences'"
      ]
     },
     "execution_count": 7,
     "metadata": {},
     "output_type": "execute_result"
    }
   ],
   "source": [
    "composed(\"Randomly removes: characters from words or white spaces from sentences\")"
   ]
  },
  {
   "cell_type": "markdown",
   "metadata": {},
   "source": [
    "# Composed"
   ]
  },
  {
   "cell_type": "code",
   "execution_count": 8,
   "metadata": {
    "ExecuteTime": {
     "end_time": "2019-05-28T12:20:46.752385Z",
     "start_time": "2019-05-28T12:20:46.743858Z"
    }
   },
   "outputs": [
    {
     "data": {
      "text/plain": [
       "['Mnaning s leader in appljing Dpe Learninv to Ntaural Language Processing',\n",
       " 'Mannin has coauthoged leaing tetxbooks oh statistial qpproachse to Natuarl Language Processing']"
      ]
     },
     "execution_count": 8,
     "metadata": {},
     "output_type": "execute_result"
    }
   ],
   "source": [
    "# Create a composed corruptor function.\n",
    "# Functions will be applied in the same order they appear.\n",
    "composed = compose(QWERTY(words_percentage=30), Swap(transform_percentage=30), RemoveChar(words_percentage=30))\n",
    "\n",
    "# Apply the function to the dataset\n",
    "modified = dataset.apply(composed)\n",
    "modified"
   ]
  },
  {
   "cell_type": "code",
   "execution_count": 9,
   "metadata": {
    "ExecuteTime": {
     "end_time": "2019-05-28T12:20:47.933922Z",
     "start_time": "2019-05-28T12:20:47.929211Z"
    }
   },
   "outputs": [
    {
     "data": {
      "text/plain": [
       "'W ca comkse corrutpor function, tehy wil. b appil3d in teh same order they apepar'"
      ]
     },
     "execution_count": 9,
     "metadata": {},
     "output_type": "execute_result"
    }
   ],
   "source": [
    "composed(\"We can compose corruptor function, they will be applied in the same order they appear\")"
   ]
  },
  {
   "cell_type": "code",
   "execution_count": null,
   "metadata": {},
   "outputs": [],
   "source": []
  }
 ],
 "metadata": {
  "kernelspec": {
   "display_name": "Python 3",
   "language": "python",
   "name": "python3"
  },
  "language_info": {
   "codemirror_mode": {
    "name": "ipython",
    "version": 3
   },
   "file_extension": ".py",
   "mimetype": "text/x-python",
   "name": "python",
   "nbconvert_exporter": "python",
   "pygments_lexer": "ipython3",
   "version": "3.6.4"
  }
 },
 "nbformat": 4,
 "nbformat_minor": 2
}
