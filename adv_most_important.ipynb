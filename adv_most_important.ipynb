{
 "cells": [
  {
   "cell_type": "markdown",
   "metadata": {},
   "source": [
    "# Adversarial examples: corrupt random vs corrupt most important\n",
    "Exercise shows comparision between corrupting random words and most important words in text."
   ]
  },
  {
   "cell_type": "code",
   "execution_count": 1,
   "metadata": {
    "ExecuteTime": {
     "end_time": "2019-05-28T12:43:53.218829Z",
     "start_time": "2019-05-28T12:43:48.715677Z"
    },
    "scrolled": true
   },
   "outputs": [
    {
     "name": "stdout",
     "output_type": "stream",
     "text": [
      "Better speed can be achieved with apex installed from https://www.github.com/nvidia/apex.\n"
     ]
    }
   ],
   "source": [
    "from utils import load_news20\n",
    "from sklearn.feature_extraction.text import TfidfVectorizer\n",
    "import numpy as np\n",
    "from wildnlp.aspects import *\n",
    "from wildnlp.aspects.utils import compose"
   ]
  },
  {
   "cell_type": "markdown",
   "metadata": {},
   "source": [
    "# Download data"
   ]
  },
  {
   "cell_type": "code",
   "execution_count": 2,
   "metadata": {
    "ExecuteTime": {
     "end_time": "2019-05-28T12:43:53.811626Z",
     "start_time": "2019-05-28T12:43:53.221678Z"
    }
   },
   "outputs": [],
   "source": [
    "# download the 20 News Group dataset, this may take a minute\n",
    "train_data, test_data, class_names = load_news20()\n",
    "\n",
    "# extract train and test datasets\n",
    "X_raw_train, y_train = train_data\n",
    "X_raw_test, y_test = test_data"
   ]
  },
  {
   "cell_type": "code",
   "execution_count": 3,
   "metadata": {
    "ExecuteTime": {
     "end_time": "2019-05-28T12:43:53.821069Z",
     "start_time": "2019-05-28T12:43:53.814477Z"
    }
   },
   "outputs": [
    {
     "data": {
      "text/plain": [
       "['atheism',\n",
       " 'graphics',\n",
       " 'ms-windows.misc',\n",
       " 'pc.hardware',\n",
       " 'mac.hardware',\n",
       " 'ms-windows.x',\n",
       " 'misc.forsale',\n",
       " 'autos',\n",
       " 'motorcycles',\n",
       " 'baseball',\n",
       " 'hockey',\n",
       " 'crypt',\n",
       " 'electronics',\n",
       " 'med',\n",
       " 'space',\n",
       " 'christian',\n",
       " 'guns',\n",
       " 'mideast',\n",
       " 'politics.misc',\n",
       " 'religion.misc']"
      ]
     },
     "execution_count": 3,
     "metadata": {},
     "output_type": "execute_result"
    }
   ],
   "source": [
    "class_names"
   ]
  },
  {
   "cell_type": "markdown",
   "metadata": {},
   "source": [
    "# Prepare clear and corrupt data"
   ]
  },
  {
   "cell_type": "code",
   "execution_count": 4,
   "metadata": {
    "ExecuteTime": {
     "end_time": "2019-05-28T12:47:14.879985Z",
     "start_time": "2019-05-28T12:47:03.391171Z"
    }
   },
   "outputs": [],
   "source": [
    "# maximum vocabulary size \n",
    "max_features = 20000\n",
    "\n",
    "# vectorize the data using tfidf, this time we'll use the whole dataset\n",
    "tfidf = TfidfVectorizer(max_features=max_features, stop_words='english')\n",
    "X_train = tfidf.fit_transform(np.array(X_raw_train))\n",
    "X_test = tfidf.transform(X_raw_test)"
   ]
  },
  {
   "cell_type": "markdown",
   "metadata": {
    "ExecuteTime": {
     "end_time": "2019-05-28T09:39:26.085449Z",
     "start_time": "2019-05-28T09:39:26.081596Z"
    }
   },
   "source": [
    "# Prepare and test model"
   ]
  },
  {
   "cell_type": "code",
   "execution_count": 5,
   "metadata": {
    "ExecuteTime": {
     "end_time": "2019-05-28T12:47:14.939555Z",
     "start_time": "2019-05-28T12:47:14.882715Z"
    }
   },
   "outputs": [
    {
     "data": {
      "text/plain": [
       "MultinomialNB(alpha=1, class_prior=None, fit_prior=True)"
      ]
     },
     "execution_count": 5,
     "metadata": {},
     "output_type": "execute_result"
    }
   ],
   "source": [
    "from sklearn.naive_bayes import MultinomialNB\n",
    "from sklearn.metrics import accuracy_score\n",
    "from sklearn.pipeline import make_pipeline\n",
    "\n",
    "# initialize and train a naive bayes model\n",
    "model = MultinomialNB(alpha=1)\n",
    "model.fit(X=X_train, y=y_train)"
   ]
  },
  {
   "cell_type": "markdown",
   "metadata": {},
   "source": [
    "Evaluate its performance on the clear test set"
   ]
  },
  {
   "cell_type": "code",
   "execution_count": 6,
   "metadata": {
    "ExecuteTime": {
     "end_time": "2019-05-28T12:47:14.966747Z",
     "start_time": "2019-05-28T12:47:14.941627Z"
    }
   },
   "outputs": [
    {
     "data": {
      "text/plain": [
       "0.8179766330323951"
      ]
     },
     "execution_count": 6,
     "metadata": {},
     "output_type": "execute_result"
    }
   ],
   "source": [
    "y_pred = model.predict(X_test)\n",
    "accuracy_score(y_test, y_pred)"
   ]
  },
  {
   "cell_type": "code",
   "execution_count": 7,
   "metadata": {
    "ExecuteTime": {
     "end_time": "2019-05-28T12:47:23.689246Z",
     "start_time": "2019-05-28T12:47:23.686242Z"
    }
   },
   "outputs": [],
   "source": [
    "# we'll make a simple pipeline to fallback to raw text\n",
    "pipe = make_pipeline(tfidf, model)"
   ]
  },
  {
   "cell_type": "markdown",
   "metadata": {},
   "source": [
    "# Corrupt most important and random"
   ]
  },
  {
   "cell_type": "code",
   "execution_count": 8,
   "metadata": {},
   "outputs": [],
   "source": [
    "from utils import change_most_important_word,change_random_word"
   ]
  },
  {
   "cell_type": "code",
   "execution_count": 9,
   "metadata": {},
   "outputs": [],
   "source": [
    "composed = compose(QWERTY())"
   ]
  },
  {
   "cell_type": "code",
   "execution_count": 10,
   "metadata": {},
   "outputs": [],
   "source": [
    "how_many = 2000"
   ]
  },
  {
   "cell_type": "code",
   "execution_count": 11,
   "metadata": {},
   "outputs": [
    {
     "name": "stdout",
     "output_type": "stream",
     "text": [
      "CPU times: user 15min 18s, sys: 1.69 s, total: 15min 20s\n",
      "Wall time: 15min 20s\n"
     ]
    }
   ],
   "source": [
    "%%time\n",
    "X_raw_test_corrupt_imp = [change_most_important_word(x, y, pipe.predict_proba, composed) for x, y in zip(X_raw_test[:how_many], y_test[:how_many])]"
   ]
  },
  {
   "cell_type": "code",
   "execution_count": 12,
   "metadata": {},
   "outputs": [],
   "source": [
    "X_raw_test_corrupt_rnd = [change_random_word(x, composed) for x, y in zip(X_raw_test[:how_many], y_test[:how_many])]"
   ]
  },
  {
   "cell_type": "code",
   "execution_count": 13,
   "metadata": {},
   "outputs": [],
   "source": [
    "X_test_corrupt_imp = tfidf.transform(X_raw_test_corrupt_imp)\n",
    "X_test_corrupt_rnd = tfidf.transform(X_raw_test_corrupt_rnd)"
   ]
  },
  {
   "cell_type": "markdown",
   "metadata": {},
   "source": [
    "Accuracy on corrupted most important"
   ]
  },
  {
   "cell_type": "code",
   "execution_count": 14,
   "metadata": {},
   "outputs": [
    {
     "data": {
      "text/plain": [
       "0.7925"
      ]
     },
     "execution_count": 14,
     "metadata": {},
     "output_type": "execute_result"
    }
   ],
   "source": [
    "y_pred = model.predict(X_test_corrupt_imp)\n",
    "accuracy_score(y_test[:how_many], y_pred)"
   ]
  },
  {
   "cell_type": "markdown",
   "metadata": {},
   "source": [
    "Accuracy on corrupted random"
   ]
  },
  {
   "cell_type": "code",
   "execution_count": 15,
   "metadata": {},
   "outputs": [
    {
     "data": {
      "text/plain": [
       "0.815"
      ]
     },
     "execution_count": 15,
     "metadata": {},
     "output_type": "execute_result"
    }
   ],
   "source": [
    "y_pred = model.predict(X_test_corrupt_rnd)\n",
    "accuracy_score(y_test[:how_many], y_pred)"
   ]
  },
  {
   "cell_type": "code",
   "execution_count": null,
   "metadata": {},
   "outputs": [],
   "source": []
  }
 ],
 "metadata": {
  "kernelspec": {
   "display_name": "Python 3",
   "language": "python",
   "name": "python3"
  },
  "language_info": {
   "codemirror_mode": {
    "name": "ipython",
    "version": 3
   },
   "file_extension": ".py",
   "mimetype": "text/x-python",
   "name": "python",
   "nbconvert_exporter": "python",
   "pygments_lexer": "ipython3",
   "version": "3.6.4"
  }
 },
 "nbformat": 4,
 "nbformat_minor": 2
}
